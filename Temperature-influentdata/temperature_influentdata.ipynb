{
 "cells": [
  {
   "cell_type": "code",
   "execution_count": 4,
   "metadata": {},
   "outputs": [
    {
     "name": "stdout",
     "output_type": "stream",
     "text": [
      "                Datetime  temp_basin4\n",
      "3441 2023-10-25 00:00:00         18.9\n",
      "3442 2023-10-25 00:10:00         18.9\n",
      "3443 2023-10-25 00:20:00         19.0\n",
      "3444 2023-10-25 00:30:00         19.0\n",
      "3445 2023-10-25 00:40:00         19.0\n",
      "3446 2023-10-25 00:50:00         19.0\n",
      "3447 2023-10-25 01:00:00         19.0\n",
      "3448 2023-10-25 01:10:00         19.0\n",
      "3449 2023-10-25 01:20:00         19.0\n",
      "3450 2023-10-25 01:30:00         19.0\n"
     ]
    }
   ],
   "source": [
    "import pandas as pd\n",
    "import numpy as np\n",
    "\n",
    "# Laad CSV-bestand\n",
    "df = pd.read_csv(\"temp_basin4.csv\", parse_dates=[\"Time\"])\n",
    "\n",
    "# Juiste kolomnaam\n",
    "naam_kolom = df.columns[1]\n",
    "\n",
    "# 0-waarden\n",
    "df = df.dropna()\n",
    "df = df[df[naam_kolom] != 0]\n",
    "df = df[df[naam_kolom] < 30]\n",
    "\n",
    "rolling_median = df[naam_kolom].rolling(window=300, center=True).median()\n",
    "diff = np.abs(df[naam_kolom] - rolling_median)\n",
    "threshold = 2\n",
    "df = df[diff < threshold]\n",
    "\n",
    "# 3. Zet tijd als index en sorteer\n",
    "df = df.set_index(\"Time\").sort_index()\n",
    "\n",
    "# 4. Maak tijdraster op exact 10-minutenintervallen\n",
    "start = df.index.min().floor(\"10min\")\n",
    "end = df.index.max().ceil(\"10min\")\n",
    "time_grid = pd.date_range(start=start, end=end, freq=\"10min\")\n",
    "\n",
    "# 5. Nieuwe dataframe met enkel de grid\n",
    "df_grid = pd.DataFrame(index=time_grid)\n",
    "\n",
    "# 6. Voeg originele data toe en interpoleer\n",
    "df_full = pd.concat([df, df_grid], axis=0).sort_index()\n",
    "df_interp = df_full.interpolate(method=\"time\")\n",
    "\n",
    "# 7. Selecteer enkel waarden exact op 10-minuten\n",
    "df_final = df_interp.loc[time_grid].reset_index().rename(columns={\"index\": \"Time\"})\n",
    "\n",
    "# Zorg dat 'Time' kolom datetime is (zou het al moeten zijn na voorgaande code)\n",
    "df_final[\"Time\"] = pd.to_datetime(df_final[\"Time\"])\n",
    "\n",
    "# Filter enkel waarden vanaf (inclusief) 25 oktober 2023\n",
    "df_filtered = df_final[df_final[\"Time\"] >= pd.Timestamp(\"2023-10-25\")]\n",
    "df_filtered = df_filtered.rename(columns={\"Time\": \"Datetime\"})\n",
    "\n",
    "# (Optioneel) Opslaan\n",
    "df_filtered.to_csv(\"temperature_interpolated.csv\", index=False)\n",
    "\n",
    "print(df_filtered.head(10))"
   ]
  }
 ],
 "metadata": {
  "kernelspec": {
   "display_name": "thesis",
   "language": "python",
   "name": "python3"
  },
  "language_info": {
   "codemirror_mode": {
    "name": "ipython",
    "version": 3
   },
   "file_extension": ".py",
   "mimetype": "text/x-python",
   "name": "python",
   "nbconvert_exporter": "python",
   "pygments_lexer": "ipython3",
   "version": "3.13.2"
  }
 },
 "nbformat": 4,
 "nbformat_minor": 2
}
