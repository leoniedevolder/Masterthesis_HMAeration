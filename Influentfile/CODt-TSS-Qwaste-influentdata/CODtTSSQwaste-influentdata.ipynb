{
 "cells": [
  {
   "cell_type": "code",
   "execution_count": 1,
   "metadata": {},
   "outputs": [
    {
     "name": "stdout",
     "output_type": "stream",
     "text": [
      "2.2982105479133383\n",
      "1.3833857499407898\n"
     ]
    }
   ],
   "source": [
    "import pandas as pd\n",
    "\n",
    "dfalles = pd.read_csv('merged_df_influentdata.csv')\n",
    "\n",
    "dflabo = pd.read_excel('LaboPython.xlsx', sheet_name='Blad2')\n",
    "dflabo['ratioCOD'] = dflabo['CODtprimeff'] / dflabo['CODsprimeff']\n",
    "dflabo['ratioN'] = dflabo['TNprimeff'] / dflabo['NH4primeff']\n",
    "mean_ratioCOD = dflabo['ratioCOD'].mean()\n",
    "mean_ratioN = dflabo['ratioN'].mean()\n",
    "\n",
    "print(mean_ratioCOD)\n",
    "print(mean_ratioN)\n",
    "\n",
    "dfCODt = dfalles[['Date', 'CODtprimeff']]\n",
    "dfCODs = dfalles[['Date', 'CODsprimeff']]\n",
    "dfTSS = dfalles[['Date', 'TSSprimeff']]\n",
    "dfQwaste = dfalles[['Date', 'Qwaste']]"
   ]
  },
  {
   "cell_type": "code",
   "execution_count": 2,
   "metadata": {},
   "outputs": [],
   "source": [
    "dfCODt = dfCODt.copy()\n",
    "dfCODs = dfCODs.copy()\n",
    "\n",
    "dfCODt['Date'] = pd.to_datetime(dfCODt['Date'])\n",
    "dfCODs['Date'] = pd.to_datetime(dfCODs['Date'])"
   ]
  },
  {
   "cell_type": "code",
   "execution_count": 3,
   "metadata": {},
   "outputs": [
    {
     "name": "stdout",
     "output_type": "stream",
     "text": [
      "(102, 2)\n",
      "(102, 2)\n",
      "          Date  CODtprimeff\n",
      "0   2023-10-25   232.000000\n",
      "1   2023-10-26   231.142857\n",
      "2   2023-10-27   230.285714\n",
      "3   2023-10-28   229.428571\n",
      "4   2023-10-29   228.571429\n",
      "..         ...          ...\n",
      "519 2025-03-27   221.000000\n",
      "520 2025-03-28   221.000000\n",
      "521 2025-03-29   221.000000\n",
      "522 2025-03-30   221.000000\n",
      "523 2025-03-31   221.000000\n",
      "\n",
      "[524 rows x 2 columns]\n"
     ]
    }
   ],
   "source": [
    "mask = (dfCODt['Date'] >= \"2024-04-20\") & (dfCODt['Date'] < \"2024-07-31\")\n",
    "dfCODt.loc[mask, 'CODtprimeff'] = dfCODs.loc[mask, 'CODsprimeff'] * mean_ratioCOD\n",
    "\n",
    "print(dfCODs.loc[mask, :].shape)\n",
    "print(dfCODt.loc[mask, :].shape)\n",
    "\n",
    "print(dfCODt)"
   ]
  },
  {
   "cell_type": "code",
   "execution_count": 4,
   "metadata": {},
   "outputs": [
    {
     "name": "stdout",
     "output_type": "stream",
     "text": [
      "                 Datetime  CODtprimeff\n",
      "0     2023-10-25 00:00:00        232.0\n",
      "1     2023-10-25 00:10:00        232.0\n",
      "2     2023-10-25 00:20:00        232.0\n",
      "3     2023-10-25 00:30:00        232.0\n",
      "4     2023-10-25 00:40:00        232.0\n",
      "...                   ...          ...\n",
      "75523 2025-04-01 11:10:00        221.0\n",
      "75524 2025-04-01 11:20:00        221.0\n",
      "75525 2025-04-01 11:30:00        221.0\n",
      "75526 2025-04-01 11:40:00        221.0\n",
      "75527 2025-04-01 11:50:00        221.0\n",
      "\n",
      "[75528 rows x 2 columns]\n"
     ]
    }
   ],
   "source": [
    "import pandas as pd\n",
    "\n",
    "# Werk met een kopie om veilig te zijn\n",
    "dfCODt_clean = dfCODt.copy()\n",
    "\n",
    "# Zet 'Date' naar 12:00\n",
    "dfCODt_clean['Date'] = pd.to_datetime(dfCODt_clean['Date']).dt.normalize() + pd.Timedelta(hours=12)\n",
    "\n",
    "# Zet index\n",
    "dfCODt_clean = dfCODt_clean.set_index(\"Date\")\n",
    "\n",
    "# Maak tijdgrid vanaf 25 okt 00:00 tot einde + 1 dag\n",
    "start = pd.Timestamp(\"2023-10-25 00:00\")\n",
    "end = dfCODt_clean.index.max() + pd.Timedelta(days=1)\n",
    "full_range = pd.date_range(start=start, end=end, freq=\"10min\")\n",
    "full_range = full_range[full_range < end]\n",
    "\n",
    "# Reindex + interpolatie (extrapolatie toegestaan)\n",
    "dfCODt_interp = dfCODt_clean.reindex(full_range)\n",
    "dfCODt_interp = dfCODt_interp.interpolate(method=\"time\", limit_direction='both')\n",
    "\n",
    "# Reset index\n",
    "dfCODt_interp = dfCODt_interp.reset_index().rename(columns={\"index\": \"Datetime\"})\n",
    "\n",
    "print(dfCODt_interp)\n",
    "\n",
    "dfCODt_interp.to_csv(\"CODt_interpolated.csv\", index=False)"
   ]
  },
  {
   "cell_type": "code",
   "execution_count": 5,
   "metadata": {},
   "outputs": [
    {
     "name": "stdout",
     "output_type": "stream",
     "text": [
      "             Datetime  TSSprimeff\n",
      "0 2023-10-25 00:00:00   41.699752\n",
      "1 2023-10-25 00:10:00   41.699752\n",
      "2 2023-10-25 00:20:00   41.699752\n",
      "3 2023-10-25 00:30:00   41.699752\n",
      "4 2023-10-25 00:40:00   41.699752\n"
     ]
    }
   ],
   "source": [
    "import pandas as pd\n",
    "\n",
    "# Werk met een kopie om veilig te zijn\n",
    "dfTSS_clean = dfTSS.copy()\n",
    "\n",
    "# Zet 'Date' naar 12:00\n",
    "dfTSS_clean['Date'] = pd.to_datetime(dfTSS_clean['Date']).dt.normalize() + pd.Timedelta(hours=12)\n",
    "\n",
    "# Zet index\n",
    "dfTSS_clean = dfTSS_clean.set_index(\"Date\")\n",
    "\n",
    "# Maak tijdgrid vanaf 25 okt 00:00 tot max datum + 1 dag\n",
    "start = pd.Timestamp(\"2023-10-25 00:00\")\n",
    "end = dfTSS_clean.index.max() + pd.Timedelta(days=1)\n",
    "full_range = pd.date_range(start=start, end=end, freq=\"10min\")\n",
    "full_range = full_range[full_range < end]\n",
    "\n",
    "# Reindex + interpolatie (extrapolatie toegestaan)\n",
    "dfTSS_interp = dfTSS_clean.reindex(full_range)\n",
    "dfTSS_interp = dfTSS_interp.interpolate(method=\"time\", limit_direction='both')\n",
    "\n",
    "# Reset index\n",
    "dfTSS_interp = dfTSS_interp.reset_index().rename(columns={\"index\": \"Datetime\"})\n",
    "\n",
    "# Opslaan als CSV\n",
    "dfTSS_interp.to_csv(\"TSS_interpolated.csv\", index=False)\n",
    "\n",
    "# (Optioneel) Print controle\n",
    "print(dfTSS_interp.head())\n"
   ]
  },
  {
   "cell_type": "code",
   "execution_count": 6,
   "metadata": {},
   "outputs": [
    {
     "name": "stdout",
     "output_type": "stream",
     "text": [
      "             Datetime  Qwaste\n",
      "0 2023-10-25 00:00:00   280.0\n",
      "1 2023-10-25 00:10:00   280.0\n",
      "2 2023-10-25 00:20:00   280.0\n",
      "3 2023-10-25 00:30:00   280.0\n",
      "4 2023-10-25 00:40:00   280.0\n"
     ]
    }
   ],
   "source": [
    "import pandas as pd\n",
    "\n",
    "# Zorg dat Date een datetime is\n",
    "dfQWaste = dfQwaste.copy()\n",
    "dfQWaste['Date'] = pd.to_datetime(dfQWaste['Date'])\n",
    "dfQWaste['Date'] = dfQWaste['Date'].dt.floor('D')  # naar middernacht\n",
    "\n",
    "# Bepaal tijdsbereik\n",
    "start = dfQWaste['Date'].min()\n",
    "end = dfQWaste['Date'].max() + pd.Timedelta(days=1)\n",
    "\n",
    "# Maak tijdgrid\n",
    "full_range = pd.date_range(start=start, end=end, freq='10min')\n",
    "full_range = full_range[full_range < end]  # verwijder eventueel eindtijd\n",
    "\n",
    "# Zet index\n",
    "dfQWaste = dfQWaste.set_index('Date')\n",
    "\n",
    "# Reindex en forward fill\n",
    "dfQWaste_ffill = dfQWaste.reindex(full_range).ffill()\n",
    "\n",
    "# Reset index en hernoem\n",
    "dfQWaste_ffill = dfQWaste_ffill.reset_index().rename(columns={'index': 'Datetime'})\n",
    "\n",
    "# Opslaan\n",
    "dfQWaste_ffill.to_csv(\"QWaste_ffill.csv\", index=False)\n",
    "\n",
    "# Bekijk resultaat\n",
    "print(dfQWaste_ffill.head())"
   ]
  }
 ],
 "metadata": {
  "kernelspec": {
   "display_name": "thesis",
   "language": "python",
   "name": "python3"
  },
  "language_info": {
   "codemirror_mode": {
    "name": "ipython",
    "version": 3
   },
   "file_extension": ".py",
   "mimetype": "text/x-python",
   "name": "python",
   "nbconvert_exporter": "python",
   "pygments_lexer": "ipython3",
   "version": "3.13.2"
  }
 },
 "nbformat": 4,
 "nbformat_minor": 2
}
